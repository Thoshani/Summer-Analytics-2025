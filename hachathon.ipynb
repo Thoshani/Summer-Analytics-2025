{
 "cells": [
  {
   "cell_type": "code",
   "execution_count": 1,
   "id": "99732134",
   "metadata": {
    "_cell_guid": "b1076dfc-b9ad-4769-8c92-a6c4dae69d19",
    "_uuid": "8f2839f25d086af736a60e9eeb907d3b93b6e0e5",
    "execution": {
     "iopub.execute_input": "2025-06-12T11:17:39.581031Z",
     "iopub.status.busy": "2025-06-12T11:17:39.580617Z",
     "iopub.status.idle": "2025-06-12T11:17:41.637534Z",
     "shell.execute_reply": "2025-06-12T11:17:41.636525Z"
    },
    "papermill": {
     "duration": 2.063144,
     "end_time": "2025-06-12T11:17:41.639087",
     "exception": false,
     "start_time": "2025-06-12T11:17:39.575943",
     "status": "completed"
    },
    "tags": []
   },
   "outputs": [
    {
     "name": "stdout",
     "output_type": "stream",
     "text": [
      "/kaggle/input/summer-analytics-mid-hackathon/hacktest.csv\n",
      "/kaggle/input/summer-analytics-mid-hackathon/hacktrain.csv\n"
     ]
    }
   ],
   "source": [
    "# This Python 3 environment comes with many helpful analytics libraries installed\n",
    "# It is defined by the kaggle/python Docker image: https://github.com/kaggle/docker-python\n",
    "# For example, here's several helpful packages to load\n",
    "\n",
    "import numpy as np # linear algebra\n",
    "import pandas as pd # data processing, CSV file I/O (e.g. pd.read_csv)\n",
    "\n",
    "# Input data files are available in the read-only \"../input/\" directory\n",
    "# For example, running this (by clicking run or pressing Shift+Enter) will list all files under the input directory\n",
    "\n",
    "import os\n",
    "for dirname, _, filenames in os.walk('/kaggle/input'):\n",
    "    for filename in filenames:\n",
    "        print(os.path.join(dirname, filename))\n",
    "\n",
    "# You can write up to 20GB to the current directory (/kaggle/working/) that gets preserved as output when you create a version using \"Save & Run All\" \n",
    "# You can also write temporary files to /kaggle/temp/, but they won't be saved outside of the current session"
   ]
  },
  {
   "cell_type": "code",
   "execution_count": 2,
   "id": "893078ec",
   "metadata": {
    "execution": {
     "iopub.execute_input": "2025-06-12T11:17:41.646837Z",
     "iopub.status.busy": "2025-06-12T11:17:41.646365Z",
     "iopub.status.idle": "2025-06-12T11:17:43.619487Z",
     "shell.execute_reply": "2025-06-12T11:17:43.618459Z"
    },
    "papermill": {
     "duration": 1.978724,
     "end_time": "2025-06-12T11:17:43.621217",
     "exception": false,
     "start_time": "2025-06-12T11:17:41.642493",
     "status": "completed"
    },
    "tags": []
   },
   "outputs": [],
   "source": [
    "# ===================================================================\n",
    "#  IMPORTS\n",
    "# ===================================================================\n",
    "import pandas as pd\n",
    "import numpy as np\n",
    "from sklearn.linear_model import LogisticRegression\n",
    "from sklearn.preprocessing import StandardScaler, LabelEncoder\n",
    "from sklearn.metrics import accuracy_score\n",
    "from scipy.signal import savgol_filter\n",
    "import warnings\n",
    "warnings.filterwarnings(\"ignore\")"
   ]
  },
  {
   "cell_type": "code",
   "execution_count": 3,
   "id": "d2a10d44",
   "metadata": {
    "execution": {
     "iopub.execute_input": "2025-06-12T11:17:43.628094Z",
     "iopub.status.busy": "2025-06-12T11:17:43.627657Z",
     "iopub.status.idle": "2025-06-12T11:17:43.724557Z",
     "shell.execute_reply": "2025-06-12T11:17:43.723599Z"
    },
    "papermill": {
     "duration": 0.102233,
     "end_time": "2025-06-12T11:17:43.726261",
     "exception": false,
     "start_time": "2025-06-12T11:17:43.624028",
     "status": "completed"
    },
    "tags": []
   },
   "outputs": [],
   "source": [
    "\n",
    "\n",
    "# ===================================================================\n",
    "#  LOAD TRAINING DATA\n",
    "# ===================================================================\n",
    "train_df = pd.read_csv(\"/kaggle/input/summer-analytics-mid-hackathon/hacktrain.csv\")\n",
    "\n",
    "# Drop unwanted columns\n",
    "if 'Unnamed: 0' in train_df.columns:\n",
    "    train_df.drop(columns=['Unnamed: 0'], inplace=True)\n",
    "\n",
    "ndvi_columns = [col for col in train_df.columns if col.endswith('_N')]"
   ]
  },
  {
   "cell_type": "code",
   "execution_count": 4,
   "id": "69568556",
   "metadata": {
    "execution": {
     "iopub.execute_input": "2025-06-12T11:17:43.733316Z",
     "iopub.status.busy": "2025-06-12T11:17:43.732935Z",
     "iopub.status.idle": "2025-06-12T11:17:48.647683Z",
     "shell.execute_reply": "2025-06-12T11:17:48.646765Z"
    },
    "papermill": {
     "duration": 4.920174,
     "end_time": "2025-06-12T11:17:48.649423",
     "exception": false,
     "start_time": "2025-06-12T11:17:43.729249",
     "status": "completed"
    },
    "tags": []
   },
   "outputs": [],
   "source": [
    "# ===================================================================\n",
    "#  SMOOTHING FUNCTION (SHARED)\n",
    "# ===================================================================\n",
    "def smooth(row):\n",
    "    if row.count() >= 5:\n",
    "        return savgol_filter(row, window_length=5, polyorder=2)\n",
    "    return row\n",
    "\n",
    "# ===================================================================\n",
    "#  TRAINING PREPROCESSING\n",
    "# ===================================================================\n",
    "def preprocess_train(df):\n",
    "    df = df.copy()\n",
    "    df[ndvi_columns] = df[ndvi_columns].apply(pd.to_numeric, errors='coerce')\n",
    "    df[ndvi_columns] = df[ndvi_columns].interpolate(method='linear', axis=1, limit_direction='both')\n",
    "    df[ndvi_columns] = df[ndvi_columns].fillna(df[ndvi_columns].mean())\n",
    "    df[ndvi_columns] = df[ndvi_columns].apply(smooth, axis=1, result_type='broadcast')\n",
    "    return df\n",
    "\n",
    "train_clean = preprocess_train(train_df)\n"
   ]
  },
  {
   "cell_type": "code",
   "execution_count": 5,
   "id": "3a017a63",
   "metadata": {
    "execution": {
     "iopub.execute_input": "2025-06-12T11:17:48.656785Z",
     "iopub.status.busy": "2025-06-12T11:17:48.656099Z",
     "iopub.status.idle": "2025-06-12T11:17:48.664504Z",
     "shell.execute_reply": "2025-06-12T11:17:48.663480Z"
    },
    "papermill": {
     "duration": 0.013664,
     "end_time": "2025-06-12T11:17:48.666129",
     "exception": false,
     "start_time": "2025-06-12T11:17:48.652465",
     "status": "completed"
    },
    "tags": []
   },
   "outputs": [],
   "source": [
    "#  FEATURE ENGINEERING\n",
    "# ===================================================================\n",
    "def extract_features(df):\n",
    "    features = pd.DataFrame()\n",
    "    ndvi = df[ndvi_columns]\n",
    "\n",
    "    features[\"mean\"] = ndvi.mean(axis=1)\n",
    "    features[\"std\"] = ndvi.std(axis=1)\n",
    "    features[\"max\"] = ndvi.max(axis=1)\n",
    "    features[\"min\"] = ndvi.min(axis=1)\n",
    "    features[\"range\"] = features[\"max\"] - features[\"min\"]\n",
    "    features[\"median\"] = ndvi.median(axis=1)\n",
    "    features[\"skew\"] = ndvi.skew(axis=1)\n",
    "    features[\"kurt\"] = ndvi.kurtosis(axis=1)\n",
    "    features[\"q75\"] = ndvi.quantile(0.75, axis=1)\n",
    "    features[\"q25\"] = ndvi.quantile(0.25, axis=1)\n",
    "    features[\"iqr\"] = features[\"q75\"] - features[\"q25\"]\n",
    "    features[\"argmax\"] = ndvi.values.argmax(axis=1)\n",
    "\n",
    "    half = ndvi.shape[1] // 2\n",
    "    features[\"first_half_mean\"] = ndvi.iloc[:, :half].mean(axis=1)\n",
    "    features[\"second_half_mean\"] = ndvi.iloc[:, half:].mean(axis=1)\n",
    "    features[\"growth\"] = features[\"second_half_mean\"] - features[\"first_half_mean\"]\n",
    "\n",
    "    # Additional derived features\n",
    "    features[\"peak_to_mean\"] = features[\"max\"] / (features[\"mean\"] + 1e-6)\n",
    "    features[\"norm_amplitude\"] = (features[\"max\"] - features[\"min\"]) / (features[\"max\"] + features[\"min\"] + 1e-6)\n",
    "\n",
    "    return features"
   ]
  },
  {
   "cell_type": "code",
   "execution_count": 6,
   "id": "c5452955",
   "metadata": {
    "execution": {
     "iopub.execute_input": "2025-06-12T11:17:48.673144Z",
     "iopub.status.busy": "2025-06-12T11:17:48.672794Z",
     "iopub.status.idle": "2025-06-12T11:17:49.037615Z",
     "shell.execute_reply": "2025-06-12T11:17:49.036674Z"
    },
    "papermill": {
     "duration": 0.370524,
     "end_time": "2025-06-12T11:17:49.039609",
     "exception": false,
     "start_time": "2025-06-12T11:17:48.669085",
     "status": "completed"
    },
    "tags": []
   },
   "outputs": [],
   "source": [
    "# Prepare train data\n",
    "X_train = extract_features(train_clean)\n",
    "y_train = train_clean['class'].astype(str)\n",
    "\n",
    "# Encode labels\n",
    "le = LabelEncoder()\n",
    "y_train_enc = le.fit_transform(y_train)\n",
    "\n",
    "# Feature expansion and scaling\n",
    "from sklearn.preprocessing import PolynomialFeatures\n",
    "from sklearn.feature_selection import SelectKBest, f_classif\n",
    "\n",
    "poly = PolynomialFeatures(degree=2, include_bias=False)\n",
    "X_train_poly = poly.fit_transform(X_train)\n",
    "\n",
    "# Feature selection\n",
    "selector = SelectKBest(score_func=f_classif, k='all')\n",
    "X_train_selected = selector.fit_transform(X_train_poly, y_train_enc)\n",
    "\n",
    "scaler = StandardScaler()\n",
    "X_train_scaled = scaler.fit_transform(X_train_selected)"
   ]
  },
  {
   "cell_type": "code",
   "execution_count": 7,
   "id": "9da4be19",
   "metadata": {
    "execution": {
     "iopub.execute_input": "2025-06-12T11:17:49.047695Z",
     "iopub.status.busy": "2025-06-12T11:17:49.047076Z",
     "iopub.status.idle": "2025-06-12T11:17:55.019874Z",
     "shell.execute_reply": "2025-06-12T11:17:55.019208Z"
    },
    "papermill": {
     "duration": 5.978886,
     "end_time": "2025-06-12T11:17:55.021891",
     "exception": false,
     "start_time": "2025-06-12T11:17:49.043005",
     "status": "completed"
    },
    "tags": []
   },
   "outputs": [
    {
     "name": "stdout",
     "output_type": "stream",
     "text": [
      " Training Accuracy: 86.30%\n",
      " Data loaded\n"
     ]
    }
   ],
   "source": [
    "\n",
    "#  MODEL TRAINING\n",
    "# ===================================================================\n",
    "model = LogisticRegression(multi_class='multinomial', solver='lbfgs', max_iter=1000)\n",
    "model.fit(X_train_scaled, y_train_enc)\n",
    "train_preds = model.predict(X_train_scaled)\n",
    "train_acc = accuracy_score(y_train_enc, train_preds)\n",
    "\n",
    "print(f\" Training Accuracy: {train_acc * 100:.2f}%\")\n",
    "print(\" Data loaded\")"
   ]
  },
  {
   "cell_type": "code",
   "execution_count": 8,
   "id": "7d1a58de",
   "metadata": {
    "execution": {
     "iopub.execute_input": "2025-06-12T11:17:55.034771Z",
     "iopub.status.busy": "2025-06-12T11:17:55.034407Z",
     "iopub.status.idle": "2025-06-12T11:17:55.072281Z",
     "shell.execute_reply": "2025-06-12T11:17:55.071433Z"
    },
    "papermill": {
     "duration": 0.045122,
     "end_time": "2025-06-12T11:17:55.074332",
     "exception": false,
     "start_time": "2025-06-12T11:17:55.029210",
     "status": "completed"
    },
    "tags": []
   },
   "outputs": [],
   "source": [
    "# ===================================================================\n",
    "#  LOAD & PREDICT ON TEST DATA\n",
    "# ===================================================================\n",
    "test_df = pd.read_csv(\"/kaggle/input/summer-analytics-mid-hackathon/hacktest.csv\")\n",
    "if 'Unnamed: 0' in test_df.columns:\n",
    "    test_df.drop(columns=['Unnamed: 0'], inplace=True)"
   ]
  },
  {
   "cell_type": "code",
   "execution_count": 9,
   "id": "40a8d2ae",
   "metadata": {
    "execution": {
     "iopub.execute_input": "2025-06-12T11:17:55.084778Z",
     "iopub.status.busy": "2025-06-12T11:17:55.084190Z",
     "iopub.status.idle": "2025-06-12T11:17:56.670974Z",
     "shell.execute_reply": "2025-06-12T11:17:56.670210Z"
    },
    "papermill": {
     "duration": 1.593586,
     "end_time": "2025-06-12T11:17:56.672681",
     "exception": false,
     "start_time": "2025-06-12T11:17:55.079095",
     "status": "completed"
    },
    "tags": []
   },
   "outputs": [],
   "source": [
    "\n",
    "# Apply same preprocessing to test\n",
    "def preprocess_test(df):\n",
    "    df = df.copy()\n",
    "    df[ndvi_columns] = df[ndvi_columns].apply(pd.to_numeric, errors='coerce')\n",
    "    df[ndvi_columns] = df[ndvi_columns].interpolate(method='linear', axis=1, limit_direction='both')\n",
    "    df[ndvi_columns] = df[ndvi_columns].fillna(df[ndvi_columns].mean())\n",
    "    df[ndvi_columns] = df[ndvi_columns].apply(smooth, axis=1, result_type='broadcast')\n",
    "    return df\n",
    "\n",
    "test_clean = preprocess_test(test_df)\n",
    "X_test = extract_features(test_clean)\n",
    "X_test_poly = poly.transform(X_test)\n",
    "X_test_selected = selector.transform(X_test_poly)\n",
    "X_test_scaled = scaler.transform(X_test_selected)\n",
    "test_preds = model.predict(X_test_scaled)\n",
    "test_labels = le.inverse_transform(test_preds)"
   ]
  },
  {
   "cell_type": "code",
   "execution_count": 10,
   "id": "003b69de",
   "metadata": {
    "execution": {
     "iopub.execute_input": "2025-06-12T11:17:56.679797Z",
     "iopub.status.busy": "2025-06-12T11:17:56.679074Z",
     "iopub.status.idle": "2025-06-12T11:17:56.699200Z",
     "shell.execute_reply": "2025-06-12T11:17:56.698090Z"
    },
    "papermill": {
     "duration": 0.025234,
     "end_time": "2025-06-12T11:17:56.700740",
     "exception": false,
     "start_time": "2025-06-12T11:17:56.675506",
     "status": "completed"
    },
    "tags": []
   },
   "outputs": [
    {
     "name": "stdout",
     "output_type": "stream",
     "text": [
      "   ID   class\n",
      "0   1  forest\n",
      "1   2  forest\n",
      "2   3  forest\n",
      "3   4  forest\n",
      "4   5  forest\n"
     ]
    }
   ],
   "source": [
    "# ===================================================================\n",
    "#  EVALUATE ON TEST DATA (WITH LABELS)\n",
    "# ===================================================================\n",
    "if 'class' in test_df.columns:\n",
    "    y_test = test_df['class'].astype(str)\n",
    "    y_test_enc = le.transform(y_test)\n",
    "    test_acc = accuracy_score(y_test_enc, test_preds)\n",
    "    print(f\" Test Accuracy: {test_acc * 100:.2f}%\")\n",
    "\n",
    "    # Print full ID + predicted class format like leaderboard submission\n",
    "    print(\" Sample Prediction Output (ID,class):\")\n",
    "    for i in range(min(10, len(test_df))):\n",
    "        print(f\"{test_df['ID'].iloc[i]},{test_labels[i]}\")\n",
    "\n",
    "# ===================================================================\n",
    "#  EXPORT SUBMISSION\n",
    "# ===================================================================\n",
    "submission = pd.DataFrame({\n",
    "    'ID': test_df['ID'],\n",
    "    'class': test_labels\n",
    "})\n",
    "submission.to_csv(\"submission.csv\", index=False)\n",
    "print(submission.head())\n"
   ]
  }
 ],
 "metadata": {
  "kaggle": {
   "accelerator": "none",
   "dataSources": [
    {
     "databundleVersionId": 12585144,
     "sourceId": 104491,
     "sourceType": "competition"
    }
   ],
   "dockerImageVersionId": 31040,
   "isGpuEnabled": false,
   "isInternetEnabled": true,
   "language": "python",
   "sourceType": "notebook"
  },
  "kernelspec": {
   "display_name": "Python 3",
   "language": "python",
   "name": "python3"
  },
  "language_info": {
   "codemirror_mode": {
    "name": "ipython",
    "version": 3
   },
   "file_extension": ".py",
   "mimetype": "text/x-python",
   "name": "python",
   "nbconvert_exporter": "python",
   "pygments_lexer": "ipython3",
   "version": "3.11.11"
  },
  "papermill": {
   "default_parameters": {},
   "duration": 22.873858,
   "end_time": "2025-06-12T11:17:57.423530",
   "environment_variables": {},
   "exception": null,
   "input_path": "__notebook__.ipynb",
   "output_path": "__notebook__.ipynb",
   "parameters": {},
   "start_time": "2025-06-12T11:17:34.549672",
   "version": "2.6.0"
  }
 },
 "nbformat": 4,
 "nbformat_minor": 5
}
